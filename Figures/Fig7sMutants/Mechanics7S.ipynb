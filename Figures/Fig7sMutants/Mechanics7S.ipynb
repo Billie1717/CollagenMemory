{
 "cells": [
  {
   "cell_type": "code",
   "execution_count": 2,
   "id": "4b3e8736-cabc-495e-b0f6-76a454e1e986",
   "metadata": {
    "tags": []
   },
   "outputs": [
    {
     "name": "stdout",
     "output_type": "stream",
     "text": [
      "The autoreload extension is already loaded. To reload it, use:\n",
      "  %reload_ext autoreload\n"
     ]
    }
   ],
   "source": [
    "%load_ext autoreload\n",
    "%autoreload 2\n",
    "\n",
    "#import sys\n",
    "import pandas\n",
    "#sys.path.append(\"..\")\n",
    "#import pandas\n",
    "import numpy as np\n",
    "import matplotlib.pyplot as plt\n",
    "\n",
    "datadir0  = '/Users/billiemeadowcroft/Dropbox/Collagen/NargessPlotting/GithubCode/Figures/Fig7sMutants/Data/'\n",
    "#datadir0  = '/Users/billiemeadowcroft/Dropbox/Collagen/NargessPlotting/GithubCode/Figures/FigAlignment/Data/'\n",
    "plotsdir  = '//Users/billiemeadowcroft/Dropbox/Collagen/NargessPlotting/GithubCode/Figures/Fig7sMutants/Plots/'\n",
    "clrs = [\"black\",\"#c239e8\",\"#1f78b4\",\"#b2df8a\",\"#33a02c\"]"
   ]
  },
  {
   "cell_type": "code",
   "execution_count": 29,
   "id": "b5a907ef-4aac-44a7-af45-709d3611ae25",
   "metadata": {},
   "outputs": [
    {
     "name": "stdout",
     "output_type": "stream",
     "text": [
      "/Users/billiemeadowcroft/Dropbox/Collagen/NargessPlotting/GithubCode/Figures/Fig7sMutants/Data/XStretch100_Fraction0.56/thermo_seed1.dat\n",
      "indexTimeEq 42500 len(TimeEq) 50001 len(VolTime) 49876 len(stressX) 7376\n",
      "ff 0 len(StressAv) 49876 len(Time) 7376 Time[-1] 4124840\n",
      "/Users/billiemeadowcroft/Dropbox/Collagen/NargessPlotting/GithubCode/Figures/Fig7sMutants/Data/XStretch100_Fraction0.56/thermo_seed2.dat\n",
      "indexTimeEq 42500 len(TimeEq) 50001 len(VolTime) 93490 len(stressX) 50990\n",
      "ff 0 len(StressAv) 93490 len(Time) 50990 Time[-1] 12934868\n",
      "/Users/billiemeadowcroft/Dropbox/Collagen/NargessPlotting/GithubCode/Figures/Fig7sMutants/Data/XStretch100_Fraction0.56/thermo_seed3.dat\n",
      "indexTimeEq 42500 len(TimeEq) 50001 len(VolTime) 64487 len(stressX) 21987\n",
      "ff 0 len(StressAv) 64487 len(Time) 21987 Time[-1] 7076262\n",
      "/Users/billiemeadowcroft/Dropbox/Collagen/NargessPlotting/GithubCode/Figures/Fig7sMutants/Data/XStretch100_Fraction0.75/thermo_seed1.dat\n",
      "indexTimeEq 42500 len(TimeEq) 50001 len(VolTime) 60147 len(stressX) 17647\n",
      "ff 1 len(StressAv) 60147 len(Time) 17647 Time[-1] 6199582\n",
      "/Users/billiemeadowcroft/Dropbox/Collagen/NargessPlotting/GithubCode/Figures/Fig7sMutants/Data/XStretch100_Fraction0.75/thermo_seed2.dat\n",
      "indexTimeEq 42500 len(TimeEq) 50001 len(VolTime) 93490 len(stressX) 50990\n",
      "ff 1 len(StressAv) 93490 len(Time) 50990 Time[-1] 12934868\n",
      "/Users/billiemeadowcroft/Dropbox/Collagen/NargessPlotting/GithubCode/Figures/Fig7sMutants/Data/XStretch100_Fraction0.75/thermo_seed3.dat\n",
      "indexTimeEq 42500 len(TimeEq) 50001 len(VolTime) 93490 len(stressX) 50990\n",
      "ff 1 len(StressAv) 93490 len(Time) 50990 Time[-1] 12934868\n"
     ]
    },
    {
     "data": {
      "image/png": "[encoded data removed]",
      "text/plain": [
       "<Figure size 324x360 with 2 Axes>"
      ]
     },
     "metadata": {
      "needs_background": "light"
     },
     "output_type": "display_data"
    }
   ],
   "source": [
    "NumMolecules=15680\n",
    "folderhandles = ['XStretch100_Fraction0.56/','XStretch100_Fraction0.75/','Equilibration_Fraction0.56/','Equilibration_Fraction0.75/']\n",
    "seeds = \"1 2 3\".split()\n",
    "labels = ['Fraction 5/9', 'Fraction 3/4']\n",
    "#seeds2 = \"1 2 3\".split()\n",
    "fig,ax= plt.subplots(2,1,figsize = (4.5,5))\n",
    "fs2 = 12\n",
    "TEq = 2635000 #1085000\n",
    "Vol = 164*164*12\n",
    "TStretch = 1e5\n",
    "\n",
    "\n",
    "for ff in range(2):\n",
    "    StressAll = []\n",
    "    Times = []\n",
    "    folderhandle = folderhandles[ff]\n",
    "    strain=1\n",
    "    for s in range(len(seeds)):\n",
    "        VolTime = []\n",
    "        name = \"thermo_seed\"+seeds[s]+\".dat\"\n",
    "        #name2 = \"thermo_seed\"+seeds[s]+\".dat\"\n",
    "        datafolder = datadir0+folderhandle+name\n",
    "        datafolderEq = datadir0+folderhandles[2+ff]+name\n",
    "        thermo = pandas.read_csv(datafolder, sep = ' ', header = 'infer')\n",
    "        thermoEq = pandas.read_csv(datafolderEq, sep = ' ', header = 'infer')\n",
    "        print(datafolder)\n",
    "        stressX = thermo.stressX\n",
    "        stressXEq = thermoEq.stressX\n",
    "        stressX = stressX.values\n",
    "        stressXEq = stressXEq.values\n",
    "        Time = thermo.step\n",
    "        TimeEq = thermoEq.step\n",
    "        Time = Time.values\n",
    "        TimeEq = TimeEq.values\n",
    "\n",
    "        indexTimeEq  = np.argmin(np.abs(TimeEq - TEq))\n",
    "\n",
    "        for r in range(len(TimeEq[:indexTimeEq])):\n",
    "            VolTime.append(Vol)\n",
    "\n",
    "        for t in range(len(Time)):\n",
    "            if Time[t] <= TEq:\n",
    "                VolTime.append(Vol)\n",
    "            if Time[t] > TEq and Time[t] <= TEq+TStretch:\n",
    "                VolTime.append(Vol+Vol*strain*((Time[t]-TEq)/TStretch))\n",
    "            if Time[t] > TEq+TStretch:\n",
    "                VolTime.append((1+strain)*Vol)\n",
    "        \n",
    "        print(\"indexTimeEq\",indexTimeEq,\"len(TimeEq)\",len(TimeEq),\"len(VolTime)\",len(VolTime),\"len(stressX)\",len(stressX))\n",
    "        stressxAv = np.divide(np.concatenate([stressXEq[:indexTimeEq], stressX]), VolTime)\n",
    "        StressAll.append(stressxAv)\n",
    "        TimeTot = np.concatenate([TimeEq[:indexTimeEq], Time])\n",
    "        Times.append(TimeTot)\n",
    "        print(\"ff\",ff,\"len(StressAv)\",len(stressxAv),\"len(Time)\",len(Time),'Time[-1]',Time[-1])\n",
    "        \n",
    "        #ax[1].plot(np.divide(Time,1e6),stressxAv,alpha = 0.2,color = clrs[s])\n",
    "        if s == 0:\n",
    "            ax[0].plot(np.divide(TimeTot,1e6),np.divide(np.subtract(VolTime,Vol),Vol/100),color = clrs[ff])\n",
    "    # Create a masked array to handle variable-length data\n",
    "    max_len = max(len(arr) for arr in StressAll)\n",
    "    longest_idx = np.argmax([len(arr) for arr in StressAll])\n",
    "    masked = np.ma.empty((len(StressAll), max_len))\n",
    "    Time = Times[longest_idx]\n",
    "    masked.mask = True  # mask everything by default\n",
    "\n",
    "    # Fill in available data for each array\n",
    "    for i, arr in enumerate(StressAll):\n",
    "        masked[i, :len(arr)] = arr\n",
    "        masked.mask[i, :len(arr)] = False  # unmask valid entries\n",
    "    \n",
    "    stressAvAv = masked.mean(axis=0).filled(np.nan) #np.mean(StressAll,axis=0)\n",
    "    stressStd = masked.std(axis=0).filled(np.nan) #np.std(StressAll,axis=0)\n",
    "\n",
    "    ax[1].plot(np.divide(Time,1e6),stressAvAv,color = clrs[ff],linewidth = 2.5,label = labels[ff])\n",
    "    ax[1].fill_between(np.divide(Time,1e6),np.subtract(stressAvAv,stressStd),np.add(stressAvAv,stressStd),color = clrs[0],alpha = 0.2)\n",
    "#ax[0].plot([(TEq+1e5)/1e6,20],[100,100],color = clrs[0])\n",
    "#ax[0].plot([(TEq+1e5)/1e6,20],[0,0],color = clrs[1])\n",
    "ax[1].set_ylabel('Stress\\n'+r\"$\\sigma_{xx} ~[k_{\\mathrm{B}}T/\\sigma^{3}$]\",fontsize =fs2)\n",
    "ax[0].set_ylabel(\"% applied strain\",fontsize =fs2)\n",
    "ax[1].legend(frameon=False)\n",
    "ax[1].set_xlabel(r\"time [$10^6\\Delta t$]\",fontsize =fs2)\n",
    "\n",
    "ax[0].set_xlabel(r\"time [$10^6\\Delta t$]\",fontsize =fs2)\n",
    "#ax[0].set_xlim([0.5,5])\n",
    "ax[1].set_xlim([0.5,10])\n",
    "ax[1].set_ylim([-0.1,0.1])\n",
    "#ax[1].set_xlim([6,7])\n",
    "#ax[1].set_ylim([-0.1,2.5])\n",
    "fig.tight_layout()"
   ]
  },
  {
   "cell_type": "markdown",
   "id": "387f4f4f",
   "metadata": {},
   "source": [
    "Molecule alignment"
   ]
  },
  {
   "cell_type": "code",
   "execution_count": 38,
   "id": "512bd726",
   "metadata": {},
   "outputs": [
    {
     "name": "stderr",
     "output_type": "stream",
     "text": [
      "/var/folders/wt/4tgp65891vd4l6wskkxdnvk40000gn/T/ipykernel_59495/2257981024.py:19: DtypeWarning: Columns (0) have mixed types. Specify dtype option on import or set low_memory=False.\n",
      "  dotX_Eq = pandas.read_csv(datafolderEq, sep = ' ', usecols = [0], header =None)\n"
     ]
    },
    {
     "name": "stdout",
     "output_type": "stream",
     "text": [
      "indexTimeEq 84 timestepsEq 101 max(timestepsEqReal) 3131000.0 Min(timestepsEqReal) 0.0 TEq 2635000\n"
     ]
    },
    {
     "name": "stderr",
     "output_type": "stream",
     "text": [
      "/var/folders/wt/4tgp65891vd4l6wskkxdnvk40000gn/T/ipykernel_59495/2257981024.py:19: DtypeWarning: Columns (0) have mixed types. Specify dtype option on import or set low_memory=False.\n",
      "  dotX_Eq = pandas.read_csv(datafolderEq, sep = ' ', usecols = [0], header =None)\n"
     ]
    },
    {
     "name": "stdout",
     "output_type": "stream",
     "text": [
      "indexTimeEq 84 timestepsEq 101 max(timestepsEqReal) 3131000.0 Min(timestepsEqReal) 0.0 TEq 2635000\n"
     ]
    },
    {
     "name": "stderr",
     "output_type": "stream",
     "text": [
      "/var/folders/wt/4tgp65891vd4l6wskkxdnvk40000gn/T/ipykernel_59495/2257981024.py:19: DtypeWarning: Columns (0) have mixed types. Specify dtype option on import or set low_memory=False.\n",
      "  dotX_Eq = pandas.read_csv(datafolderEq, sep = ' ', usecols = [0], header =None)\n"
     ]
    },
    {
     "name": "stdout",
     "output_type": "stream",
     "text": [
      "indexTimeEq 84 timestepsEq 101 max(timestepsEqReal) 3131000.0 Min(timestepsEqReal) 0.0 TEq 2635000\n"
     ]
    },
    {
     "name": "stderr",
     "output_type": "stream",
     "text": [
      "/var/folders/wt/4tgp65891vd4l6wskkxdnvk40000gn/T/ipykernel_59495/2257981024.py:19: DtypeWarning: Columns (0) have mixed types. Specify dtype option on import or set low_memory=False.\n",
      "  dotX_Eq = pandas.read_csv(datafolderEq, sep = ' ', usecols = [0], header =None)\n"
     ]
    },
    {
     "name": "stdout",
     "output_type": "stream",
     "text": [
      "indexTimeEq 84 timestepsEq 101 max(timestepsEqReal) 3131000.0 Min(timestepsEqReal) 0.0 TEq 2635000\n"
     ]
    },
    {
     "name": "stderr",
     "output_type": "stream",
     "text": [
      "/var/folders/wt/4tgp65891vd4l6wskkxdnvk40000gn/T/ipykernel_59495/2257981024.py:19: DtypeWarning: Columns (0) have mixed types. Specify dtype option on import or set low_memory=False.\n",
      "  dotX_Eq = pandas.read_csv(datafolderEq, sep = ' ', usecols = [0], header =None)\n"
     ]
    },
    {
     "name": "stdout",
     "output_type": "stream",
     "text": [
      "indexTimeEq 84 timestepsEq 101 max(timestepsEqReal) 3131000.0 Min(timestepsEqReal) 0.0 TEq 2635000\n"
     ]
    },
    {
     "name": "stderr",
     "output_type": "stream",
     "text": [
      "/var/folders/wt/4tgp65891vd4l6wskkxdnvk40000gn/T/ipykernel_59495/2257981024.py:19: DtypeWarning: Columns (0) have mixed types. Specify dtype option on import or set low_memory=False.\n",
      "  dotX_Eq = pandas.read_csv(datafolderEq, sep = ' ', usecols = [0], header =None)\n"
     ]
    },
    {
     "name": "stdout",
     "output_type": "stream",
     "text": [
      "indexTimeEq 84 timestepsEq 101 max(timestepsEqReal) 3131000.0 Min(timestepsEqReal) 0.0 TEq 2635000\n"
     ]
    },
    {
     "data": {
      "text/plain": [
       "(0.33, 0.6)"
      ]
     },
     "execution_count": 38,
     "metadata": {},
     "output_type": "execute_result"
    },
    {
     "data": {
      "image/png": "[encoded data removed]",
      "text/plain": [
       "<Figure size 324x216 with 1 Axes>"
      ]
     },
     "metadata": {
      "needs_background": "light"
     },
     "output_type": "display_data"
    }
   ],
   "source": [
    "fig,ax= plt.subplots(1,figsize = (4.5,3))\n",
    "frame = 101000\n",
    "folderhandles = ['XStretch100_Fraction0.56/','XStretch100_Fraction0.75/','Equilibration_Fraction0.56/','Equilibration_Fraction0.75/']\n",
    "frameEq = 31000\n",
    "seeds = \"1 2 3\".split()\n",
    "seeds2 = \"1 2 3\".split()\n",
    "for ff in range(2):\n",
    "    Times = []\n",
    "    MolTot = []\n",
    "    folderhandle = folderhandles[ff]\n",
    "    for s in range(len(seeds)):\n",
    "        name = \"MolAlignrun_seed\"+seeds[s]\n",
    "        #name2 = \"MolAlignrun_seed\"+seeds2[s]\n",
    "        tEq_add = TEq\n",
    "        summingtSq=[]\n",
    "        datafolder = datadir0+folderhandle+name+'.txt'\n",
    "        datafolderEq = datadir0+folderhandles[2+ff]+name+'.txt'\n",
    "        dotX_ = pandas.read_csv(datafolder, sep = ' ', usecols = [0], header =None)\n",
    "        dotX_Eq = pandas.read_csv(datafolderEq, sep = ' ', usecols = [0], header =None)\n",
    "        timesteps1 = int((len(dotX_))/(NumMolecules+1))\n",
    "        timestepsEq = int((len(dotX_Eq))/(NumMolecules+1))\n",
    "        dotX_Eq__ = np.reshape(dotX_Eq.values,(timestepsEq,-1))\n",
    "        dotX_Eq = dotX_Eq__ [:,1:]\n",
    "        dotX_EqF = np.abs(dotX_Eq.astype(float))\n",
    "        dotX__ = np.reshape(dotX_.values,(timesteps1,-1))\n",
    "        dotX = dotX__ [:,1:]\n",
    "        dotXF = np.abs(dotX.astype(float))\n",
    "        time = []\n",
    "        timestepsEqReal = np.linspace(0,timestepsEq*frameEq,timestepsEq)\n",
    "        indexTimeEq  = np.argmin(np.abs(timestepsEqReal - TEq))\n",
    "        print(\"indexTimeEq\",indexTimeEq,\"timestepsEq\",timestepsEq,\"max(timestepsEqReal)\",np.max(timestepsEqReal),\"Min(timestepsEqReal)\",np.min(timestepsEqReal),\"TEq\",TEq)\n",
    "        for t in range(indexTimeEq):\n",
    "            time.append(np.add(np.multiply(t,int(frameEq)),0))\n",
    "            summingtSq.append((np.sum(np.multiply(dotX_EqF[t],dotX_EqF[t]))/NumMolecules))\n",
    "        for t in range(timesteps1-1):\n",
    "            time.append(np.add(np.multiply(t,int(frame)),tEq_add))\n",
    "            summingtSq.append((np.sum(np.multiply(dotXF[t],dotXF[t]))/NumMolecules))\n",
    "        ax.plot(np.divide(time,1e6),summingtSq,color = clrs[s],alpha = 0.2)\n",
    "\n",
    "        MolTot.append(summingtSq)\n",
    "        Times.append(time)\n",
    "    max_len = max(len(arr) for arr in MolTot)\n",
    "    longest_idx = np.argmax([len(arr) for arr in MolTot])\n",
    "    masked = np.ma.empty((len(MolTot), max_len))\n",
    "    Time = Times[longest_idx]\n",
    "    masked.mask = True  # mask everything by default\n",
    "\n",
    "    # Fill in available data for each array\n",
    "    for i, arr in enumerate(MolTot):\n",
    "        masked[i, :len(arr)] = arr\n",
    "        masked.mask[i, :len(arr)] = False  # unmask valid entries\n",
    "\n",
    "    MolTotAv = masked.mean(axis=0).filled(np.nan) \n",
    "    MolTotStd = masked.std(axis=0).filled(np.nan)\n",
    "    time = Times[longest_idx]\n",
    "    ax.plot(np.divide(time,1e6),MolTotAv,color = clrs[ff],linewidth = 2.5,label = 'Average')\n",
    "    ax.fill_between(np.divide(time,1e6),np.subtract(MolTotAv,MolTotStd),np.add(MolTotAv,MolTotStd),color = clrs[ff],alpha = 0.2,label = 'Standard deviation')\n",
    "\n",
    "ax.set_xlabel(r\"time [$10^6\\Delta t$]\",fontsize =fs2)\n",
    "ax.set_ylabel(r'Alignment, $\\langle cos^{2}(\\theta)\\rangle$',fontsize =fs2)\n",
    "ax.set_xlim([0.5,5])\n",
    "ax.set_ylim([0.33,0.6])\n",
    "#ax[1].set_xlim([0.5,5])\n"
   ]
  },
  {
   "cell_type": "code",
   "execution_count": null,
   "id": "04b0c3f3",
   "metadata": {},
   "outputs": [],
   "source": []
  }
 ],
 "metadata": {
  "kernelspec": {
   "display_name": "base",
   "language": "python",
   "name": "python3"
  },
  "language_info": {
   "codemirror_mode": {
    "name": "ipython",
    "version": 3
   },
   "file_extension": ".py",
   "mimetype": "text/x-python",
   "name": "python",
   "nbconvert_exporter": "python",
   "pygments_lexer": "ipython3",
   "version": "3.8.5"
  }
 },
 "nbformat": 4,
 "nbformat_minor": 5
}
