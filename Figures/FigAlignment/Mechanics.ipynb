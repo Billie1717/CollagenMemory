{
 "cells": [
  {
   "cell_type": "code",
   "execution_count": 1,
   "id": "4b3e8736-cabc-495e-b0f6-76a454e1e986",
   "metadata": {
    "tags": []
   },
   "outputs": [],
   "source": [
    "%load_ext autoreload\n",
    "%autoreload 2\n",
    "\n",
    "#import sys\n",
    "import pandas\n",
    "#sys.path.append(\"..\")\n",
    "#import pandas\n",
    "import numpy as np\n",
    "import matplotlib.pyplot as plt\n",
    "\n",
    "datadir0  = '/Users/billiemeadowcroft/Dropbox/Collagen/NargessPlotting/GithubCode/Figures/FigAlignment/Data/'\n",
    "plotsdir  = '//Users/billiemeadowcroft/Dropbox/Collagen/NargessPlotting/GithubCode/Figures/FigAlignment/Plots/'"
   ]
  },
  {
   "cell_type": "code",
   "execution_count": 2,
   "id": "62144652-7d50-4087-b5ef-70a3d5c8f4ef",
   "metadata": {
    "tags": []
   },
   "outputs": [],
   "source": [
    "clrs00 = ['#A10035','#2A0944','lightsalmon','#3FA796','#FEC260','pink','#A10035','#2A0944','#3FA796']\n",
    "cmap0 = plt.cm.get_cmap('Spectral_r') #YlOrBr\n",
    "cmap1 = plt.cm.get_cmap('YlOrBr') #YlOrBr\n",
    "#cmap2 = plt.cm.get_cmap('twilight') #twilight\n",
    "cmap2 = plt.cm.get_cmap('GnBu') #twilight\n",
    "cmap3 = plt.cm.get_cmap('BuPu') #twilight\n",
    "clrs = ['#018571','#a6611a','#dfc27d','#80cdc1','#018571','steelblue','slateblue']\n",
    "clrs2 = ['#ffffcc','#c7e9b4','#7fcdbb','#41b6c4','#1d91c0','#225ea8','#0c2c84']\n",
    "clrs3 = ['#c7e9b4','#7fcdbb','#1d91c0','#225ea8','#0c2c84']\n",
    "clrs = [\"black\",\"#c239e8\",\"#1f78b4\",\"#b2df8a\",\"#33a02c\"]\n"
   ]
  },
  {
   "cell_type": "code",
   "execution_count": 11,
   "id": "b5a907ef-4aac-44a7-af45-709d3611ae25",
   "metadata": {},
   "outputs": [
    {
     "name": "stdout",
     "output_type": "stream",
     "text": [
      "/Users/billiemeadowcroft/Dropbox/Collagen/NargessPlotting/GithubCode/Figures/FigAlignment/Data/NoRemodel_Xstretch100/thermo_seed1.dat\n",
      "/Users/billiemeadowcroft/Dropbox/Collagen/NargessPlotting/GithubCode/Figures/FigAlignment/Data/NoRemodel_Xstretch100/thermo_seed2.dat\n",
      "/Users/billiemeadowcroft/Dropbox/Collagen/NargessPlotting/GithubCode/Figures/FigAlignment/Data/NoRemodel_Xstretch100/thermo_seed3.dat\n",
      "/Users/billiemeadowcroft/Dropbox/Collagen/NargessPlotting/GithubCode/Figures/FigAlignment/Data/NoRemodel_Xstretch100/thermo_seed4.dat\n",
      "/Users/billiemeadowcroft/Dropbox/Collagen/NargessPlotting/GithubCode/Figures/FigAlignment/Data/NoRemodel_Xstretch100/thermo_seed5.dat\n"
     ]
    },
    {
     "data": {
      "image/png": "[encoded data removed]",
      "text/plain": [
       "<Figure size 324x360 with 2 Axes>"
      ]
     },
     "metadata": {
      "needs_background": "light"
     },
     "output_type": "display_data"
    }
   ],
   "source": [
    "NumMolecules=15680\n",
    "folderhandle = 'NoRemodel_Xstretch100/'\n",
    "seeds = \"1 2 3 4 5\".split()\n",
    "fig,ax= plt.subplots(2,1,figsize = (4.5,5))\n",
    "fs2 = 12\n",
    "TEq = 1085000\n",
    "Vol = 164*164*12\n",
    "TStretch = 1e5\n",
    "strain=1\n",
    "StressAll = []\n",
    "for s in range(5):\n",
    "    VolTime = []\n",
    "    name = \"thermo_seed\"+seeds[s]+\".dat\"\n",
    "    datafolder = datadir0+folderhandle+name\n",
    "    thermo = pandas.read_csv(datafolder, sep = ' ', header = 'infer')\n",
    "    print(datafolder)\n",
    "    stressX = thermo.stressX\n",
    "    stressX = stressX.values\n",
    "    Time = thermo.step\n",
    "    Time = Time.values\n",
    "    #frame[ff] = Time[1]-Time[0]\n",
    "    #print(frame[ff])\n",
    "    for t in range(len(Time)):\n",
    "        if Time[t] <= TEq:\n",
    "            VolTime.append(Vol)\n",
    "        if Time[t] > TEq and Time[t] <= TEq+TStretch:\n",
    "            VolTime.append(Vol+Vol*strain*((Time[t]-TEq)/TStretch))\n",
    "        if Time[t] > TEq+TStretch:\n",
    "            VolTime.append((1+strain)*Vol)\n",
    "    stressxAv = np.divide(stressX,VolTime)\n",
    "    StressAll.append(stressxAv)\n",
    "    \n",
    "    #ax[1].plot(np.divide(Time,1e6),stressxAv,alpha = 0.2,color = clrs[s])\n",
    "    if s == 0:\n",
    "        ax[0].plot(np.divide(Time,1e6),np.divide(np.subtract(VolTime,Vol),Vol/100),color = 'tab:blue')\n",
    "stressAvAv = np.mean(StressAll,axis=0)\n",
    "stressStd = np.std(StressAll,axis=0)\n",
    "ax[1].plot(np.divide(Time,1e6),stressAvAv,color = clrs[0],linewidth = 2.5,label = 'Average')\n",
    "ax[1].fill_between(np.divide(Time,1e6),np.subtract(stressAvAv,stressStd),np.add(stressAvAv,stressStd),color = clrs[0],alpha = 0.2,label = 'Standard deviation')\n",
    "#ax[1].legend(loc='upper right',fontsize = fs2)\n",
    "#ax[1].set_ylim([-0.05,0.25])\n",
    "#ax[1].set_xlim([0,2.5])\n",
    "\n",
    "ax[1].set_ylabel('Stress\\n'+r\"$\\sigma_{xx} ~[k_{\\mathrm{B}}T/\\sigma^{3}$]\",fontsize =fs2)\n",
    "ax[0].set_ylabel(\"% applied strain\",fontsize =fs2)\n",
    "\n",
    "ax[1].set_xlabel(r\"time [$10^6\\Delta t$]\",fontsize =fs2)\n",
    "\n",
    "ax[0].set_xlabel(r\"time [$10^6\\Delta t$]\",fontsize =fs2)\n",
    "\n",
    "fig.tight_layout()"
   ]
  },
  {
   "cell_type": "markdown",
   "id": "387f4f4f",
   "metadata": {},
   "source": [
    "Molecule alignment"
   ]
  },
  {
   "cell_type": "code",
   "execution_count": null,
   "id": "512bd726",
   "metadata": {},
   "outputs": [
    {
     "ename": "NameError",
     "evalue": "name 'handle0' is not defined",
     "output_type": "error",
     "traceback": [
      "\u001b[0;31m---------------------------------------------------------------------------\u001b[0m",
      "\u001b[0;31mNameError\u001b[0m                                 Traceback (most recent call last)",
      "Input \u001b[0;32mIn [5]\u001b[0m, in \u001b[0;36m<cell line: 1>\u001b[0;34m()\u001b[0m\n\u001b[1;32m      4\u001b[0m \u001b[38;5;66;03m#else:\u001b[39;00m\n\u001b[1;32m      5\u001b[0m \u001b[38;5;66;03m#    tEq_add = TEq\u001b[39;00m\n\u001b[1;32m      6\u001b[0m \u001b[38;5;66;03m#if ff==3:\u001b[39;00m\n\u001b[1;32m      7\u001b[0m \u001b[38;5;66;03m#    tEq_add = TEqRESTART[b]\u001b[39;00m\n\u001b[1;32m      8\u001b[0m summingtSq\u001b[38;5;241m=\u001b[39m[]\n\u001b[0;32m----> 9\u001b[0m datafolder \u001b[38;5;241m=\u001b[39m datadir0\u001b[38;5;241m+\u001b[39m\u001b[38;5;124m'\u001b[39m\u001b[38;5;124m/Data/\u001b[39m\u001b[38;5;124m'\u001b[39m\u001b[38;5;241m+\u001b[39m\u001b[43mhandle0\u001b[49m\u001b[38;5;241m+\u001b[39mMolAlignNames[ff]\u001b[38;5;241m+\u001b[39m\u001b[38;5;124m'\u001b[39m\u001b[38;5;124m.txt\u001b[39m\u001b[38;5;124m'\u001b[39m\n\u001b[1;32m     10\u001b[0m dotX_ \u001b[38;5;241m=\u001b[39m pandas\u001b[38;5;241m.\u001b[39mread_csv(datafolder, sep \u001b[38;5;241m=\u001b[39m \u001b[38;5;124m'\u001b[39m\u001b[38;5;124m \u001b[39m\u001b[38;5;124m'\u001b[39m, usecols \u001b[38;5;241m=\u001b[39m [\u001b[38;5;241m0\u001b[39m], header \u001b[38;5;241m=\u001b[39m\u001b[38;5;28;01mNone\u001b[39;00m)\n\u001b[1;32m     11\u001b[0m timesteps1 \u001b[38;5;241m=\u001b[39m \u001b[38;5;28mint\u001b[39m((\u001b[38;5;28mlen\u001b[39m(dotX_))\u001b[38;5;241m/\u001b[39m(NumMolecules\u001b[38;5;241m+\u001b[39m\u001b[38;5;241m1\u001b[39m))\n",
      "\u001b[0;31mNameError\u001b[0m: name 'handle0' is not defined"
     ]
    }
   ],
   "source": [
    "fig,ax= plt.subplots(3,1,figsize = (4.5,7))\n",
    "for s in range(1):\n",
    "#if ff==0:\n",
    "    tEq_add = 0\n",
    "    #else:\n",
    "    #    tEq_add = TEq\n",
    "    #if ff==3:\n",
    "    #    tEq_add = TEqRESTART[b]\n",
    "    summingtSq=[]\n",
    "    datafolder = datadir0+'/Data/'+handle0+MolAlignNames[ff]+'.txt'\n",
    "    dotX_ = pandas.read_csv(datafolder, sep = ' ', usecols = [0], header =None)\n",
    "    timesteps1 = int((len(dotX_))/(NumMolecules+1))\n",
    "    dotX__ = np.reshape(dotX_.values,(timesteps1,-1))\n",
    "    dotX = dotX__ [:,1:]\n",
    "    dotXF = np.abs(dotX.astype(float))\n",
    "    time = []\n",
    "    for t in range(timesteps1-1):\n",
    "        time.append(np.add(np.multiply(t,int(frame[ff])),tEq_add))\n",
    "        summingtSq.append((np.sum(np.multiply(dotXF[t],dotXF[t]))/NumMolecules))\n",
    "    print(frame[ff])\n",
    "\n",
    "ax[0].set_xlabel(r\"time [$10^6\\Delta t$]\",fontsize =fs2)\n",
    "#ax[2].set_ylim([0.35,0.55])\n",
    "#ax[2].set_ylabel('Alignment\\n'+r'$\\langle cos^{2}(\\theta)\\rangle$',fontsize =fs2)"
   ]
  },
  {
   "cell_type": "code",
   "execution_count": null,
   "id": "04b0c3f3",
   "metadata": {},
   "outputs": [],
   "source": []
  }
 ],
 "metadata": {
  "kernelspec": {
   "display_name": "base",
   "language": "python",
   "name": "python3"
  },
  "language_info": {
   "codemirror_mode": {
    "name": "ipython",
    "version": 3
   },
   "file_extension": ".py",
   "mimetype": "text/x-python",
   "name": "python",
   "nbconvert_exporter": "python",
   "pygments_lexer": "ipython3",
   "version": "3.8.5"
  }
 },
 "nbformat": 4,
 "nbformat_minor": 5
}
